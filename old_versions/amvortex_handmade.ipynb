{
 "cells": [
  {
   "cell_type": "code",
   "execution_count": 1,
   "id": "05e290e7-a9ea-4440-bea7-e6b5764f54f7",
   "metadata": {
    "tags": []
   },
   "outputs": [],
   "source": [
    "import os\n",
    "from functools import partial\n",
    "import numpy as np\n",
    "import scipy.sparse as sp\n",
    "from typing import Tuple, Union\n",
    "from numpy.typing import ArrayLike\n",
    "#import cupy as cp\n",
    "#import cupy.sparse as scp\n",
    "import matplotlib.pyplot as plt\n",
    "import numpy as np\n",
    "import scipy.linalg as la\n",
    "import scipy.sparse as sp\n",
    "import scipy.sparse.linalg as sla\n",
    "from tqdm.notebook import tqdm\n",
    "import kwant\n",
    "\n",
    "from colorsys import hls_to_rgb\n",
    "\n",
    "def colorize(z):\n",
    "    n, m = z.shape\n",
    "    c = np.zeros((n, m, 3))\n",
    "    c[np.isinf(z)] = (1.0, 1.0, 1.0)\n",
    "    c[np.isnan(z)] = (0.5, 0.5, 0.5)\n",
    "\n",
    "    idx = ~(np.isinf(z) + np.isnan(z))\n",
    "    phase = (np.angle(z[idx]) + np.pi) / (2 * np.pi)\n",
    "    phase = (phase + 0.5) % 1.0\n",
    "    amplitude = 1.0 - 1.0 / (1.0 + abs(z[idx])**0.3)\n",
    "    color = [hls_to_rgb(p, a, 0.8) for p, a in zip(phase, amplitude)]\n",
    "    c[idx] = color\n",
    "    return c"
   ]
  },
  {
   "cell_type": "code",
   "execution_count": 2,
   "id": "3724da5f-fca5-4bcb-844a-6d668182a363",
   "metadata": {
    "tags": []
   },
   "outputs": [],
   "source": [
    "# Pauli matrices\n",
    "s0 = np.array([[1.0, 0.0], [0.0, 1.0]], dtype=complex)\n",
    "sx = np.array([[0.0, 1.0], [1.0, 0.0]], dtype=complex)\n",
    "sy = np.array([[0.0, -1j], [1j, 0.0]], dtype=complex)\n",
    "sz = np.array([[1.0, 0.0], [0.0, -1.0]], dtype=complex)\n",
    "\n",
    "# Kronecker products\n",
    "t0s0 = np.kron(s0, s0)\n",
    "t0sx = np.kron(s0, sx)\n",
    "t0sy = np.kron(s0, sy)\n",
    "t0sz = np.kron(s0, sz)\n",
    "\n",
    "txs0 = np.kron(sx, s0)\n",
    "txsx = np.kron(sx, sx)\n",
    "txsy = np.kron(sx, sy)\n",
    "txsz = np.kron(sx, sz)\n",
    "\n",
    "tys0 = np.kron(sy, s0)\n",
    "tysx = np.kron(sy, sx)\n",
    "tysy = np.kron(sy, sy)\n",
    "tysz = np.kron(sy, sz)\n",
    "\n",
    "tzs0 = np.kron(sz, s0)\n",
    "tzsx = np.kron(sz, sx)\n",
    "tzsy = np.kron(sz, sy)\n",
    "tzsz = np.kron(sz, sz)"
   ]
  },
  {
   "cell_type": "code",
   "execution_count": 3,
   "id": "686b17ef-3f31-4bf3-a5e5-326fa724391a",
   "metadata": {
    "tags": []
   },
   "outputs": [],
   "source": [
    "def generate_grid_and_operators(Nx: int, Ny: int) -> Tuple[ArrayLike, ArrayLike, ArrayLike, sp.csr_matrix, sp.csr_matrix, sp.csr_matrix, sp.csr_matrix]:\n",
    "    \"\"\"\n",
    "    Generate grids, differential operators, and Laplacian operators for a tight-binding simulation.\n",
    "\n",
    "    Parameters:\n",
    "        Nx (int): Number of points along the x-axis.\n",
    "        Ny (int): Number of points along the y-axis.\n",
    "\n",
    "    Returns:\n",
    "        Tuple[ArrayLike, ArrayLike, ArrayLike, sp.csr_matrix, sp.csr_matrix, sp.csr_matrix, sp.csr_matrix]:\n",
    "            - x (ArrayLike): 2D array representing the x-coordinates grid.\n",
    "            - y (ArrayLike): 2D array representing the y-coordinates grid.\n",
    "            - r (ArrayLike): 2D array representing the radial distance from the origin.\n",
    "            - theta (ArrayLike): 2D array representing the polar angle.\n",
    "            - Dx (scipy.sparse.csr_matrix): x-axis differential operator.\n",
    "            - Dy (scipy.sparse.csr_matrix): y-axis differential operator.\n",
    "            - Lx (scipy.sparse.csr_matrix): Laplacian operator along the x-axis.\n",
    "            - Ly (scipy.sparse.csr_matrix): Laplacian operator along the y-axis.\n",
    "    \"\"\"\n",
    "    x_ax = np.linspace(-(Nx//2), Nx//2, Nx)\n",
    "    y_ax = np.linspace(-(Ny//2),  Ny//2, Ny)\n",
    "    x, y = np.meshgrid(x_ax, y_ax)\n",
    "    r = np.sqrt(x**2 + y**2)\n",
    "    theta = np.arctan2(y, x)\n",
    "\n",
    "    # Calculate x and y differential operators\n",
    "    _Dx = sp.diags([+1*np.ones(Nx-1), -1*np.ones(Nx-1)], [+1, -1], format='csr') / 2\n",
    "    Dx = sp.kron(sp.eye(Ny), _Dx)\n",
    "\n",
    "    _Dy = sp.diags([+1*np.ones(Ny-1), -1*np.ones(Ny-1)], [+1, -1]) / 2\n",
    "    Dy = sp.kron(_Dy, sp.eye(Nx))\n",
    "\n",
    "    # Calculate x and y Laplacian operators\n",
    "    _Lx = sp.diags([+1*np.ones(Nx-1), -2*np.ones(Nx), +1*np.ones(Nx-1)], [+1, 0, -1], format='csr')\n",
    "    Lx = sp.kron(sp.eye(Ny), _Lx)\n",
    "\n",
    "    _Ly = sp.diags([+1*np.ones(Ny-1), -2*np.ones(Ny), +1*np.ones(Ny-1)], [+1, 0, -1], format='csr')\n",
    "    Ly = sp.kron(_Ly, sp.eye(Nx))\n",
    "\n",
    "    return x, y, r, theta, Dx, Dy, Lx, Ly"
   ]
  },
  {
   "cell_type": "code",
   "execution_count": 5,
   "id": "9eab96bb-775f-4faa-8993-72532292d3bf",
   "metadata": {
    "tags": []
   },
   "outputs": [],
   "source": [
    "def generate_hamiltonian(Nx: int, Ny: int, t: float, t_am: float, mu: float) -> sp.csr_matrix:\n",
    "    \"\"\"\n",
    "    Generate the Hamiltonian for a tight-binding simulation.\n",
    "\n",
    "    Parameters:\n",
    "        Nx (int): Number of points along the x-axis.\n",
    "        Ny (int): Number of points along the y-axis.\n",
    "        t (float): Hopping parameter for the kinetic energy part.\n",
    "        t_am (float): Hopping parameter for the antiferromagnet part.\n",
    "        mu (float): Chemical potential.\n",
    "        Delta (ArrayLike): Superconducting order parameter as a function of position.\n",
    "        phi (ArrayLike): Phase of the superconducting order parameter.\n",
    "\n",
    "    Returns:\n",
    "        sp.csr_matrix: The Hamiltonian matrix.\n",
    "\n",
    "    \"\"\"\n",
    "    x, y, r, theta, Dx, Dy, Lx, Ly = generate_grid_and_operators(Nx, Ny)\n",
    "\n",
    "    Delta = (1 - np.exp(-r/5))\n",
    "    phi = theta\n",
    "    # Kinetic energy part\n",
    "    H_n = -t * (Ly + Lx)\n",
    "    H_n += -mu * sp.eye(Nx * Ny)\n",
    "\n",
    "    # Superconductor\n",
    "    H_s = (sp.kron(sp.diags(Delta.flatten() * np.cos(theta).flatten()), txs0) + \n",
    "           sp.kron(sp.diags(Delta.flatten() * np.sin(theta).flatten()), -tys0))\n",
    "\n",
    "    # Antiferromagnet\n",
    "    H_m = -t_am * (Ly - Lx)\n",
    "\n",
    "    # Create the full Hamiltonian\n",
    "    H = sp.kron(H_n, tzs0) + sp.kron(H_m, t0sz) + H_s   \n",
    "\n",
    "    return H"
   ]
  },
  {
   "cell_type": "code",
   "execution_count": 6,
   "id": "ca164c53-f33c-4c2d-8e45-c3dc9fa5e604",
   "metadata": {
    "tags": []
   },
   "outputs": [],
   "source": [
    "def generate_hamiltonian2(Nx, Ny, t, t_am, mu):\n",
    "    # Create a Kwant system\n",
    "    lat = kwant.lattice.square(a=1, norbs=4)\n",
    "    syst = kwant.Builder()\n",
    "\n",
    "    \n",
    "    def circle(pos):\n",
    "        (x, y) = pos\n",
    "        r = x ** 2 + y ** 2\n",
    "        return r < (51 ** 2)\n",
    "    \n",
    "    def square(pos):\n",
    "        (x, y) = pos\n",
    "        return (abs(x)<101)*(abs(y)<101)\n",
    "    \n",
    "    def onsite(site1):\n",
    "        (x, y) = site1.pos\n",
    "        return ((mu + 4 * t) * tzs0\n",
    "                  + (1 - np.exp(-np.sqrt(x**2+y**2)/5)) * np.cos(np.arctan2(y, x)) * (+txs0)\n",
    "                  + (1 - np.exp(-np.sqrt(x**2+y**2)/5)) * np.sin(np.arctan2(y, x)) * (-tys0))\n",
    "\n",
    "    def hopx(site1, site2):\n",
    "        return -t * tzs0 + t_am * t0sz\n",
    "    \n",
    "    def hopy(site1, site2):\n",
    "        return -t * tzs0 - t_am * t0sz\n",
    "    \n",
    "    syst[lat.shape(circle, (0, 0))] = onsite\n",
    "    syst[kwant.builder.HoppingKind((1, 0), lat, lat)] = hopx\n",
    "    syst[kwant.builder.HoppingKind((0, 1), lat, lat)] = hopy\n",
    "    \n",
    "    hamiltonian = syst.finalized().hamiltonian_submatrix(sparse=True)\n",
    "    return hamiltonian"
   ]
  },
  {
   "cell_type": "code",
   "execution_count": 7,
   "id": "46a70516-7ede-429d-883c-c94cf8952f4e",
   "metadata": {
    "tags": []
   },
   "outputs": [],
   "source": [
    "Nx = 201\n",
    "Ny = 201\n",
    "t = 10\n",
    "t_am = 0.1\n",
    "mu = 0#2 * t\n",
    "\n",
    "H1 = generate_hamiltonian(Nx, Ny, t, t_am, mu)\n",
    "H2 = generate_hamiltonian2(Nx, Ny, t, t_am, mu)"
   ]
  },
  {
   "cell_type": "code",
   "execution_count": null,
   "id": "cfb581d2-c496-4a67-89f2-6e39e39a0c3c",
   "metadata": {
    "tags": []
   },
   "outputs": [],
   "source": [
    "H1.tocsc()[:4, :4].toarray().real"
   ]
  },
  {
   "cell_type": "code",
   "execution_count": 86,
   "id": "00713abd-69a9-4194-8a26-d47f0ed36c97",
   "metadata": {
    "tags": []
   },
   "outputs": [
    {
     "data": {
      "text/plain": [
       "array([[ 40.        ,   0.        ,  -0.98054416,   0.        ],\n",
       "       [  0.        ,  40.        ,   0.        ,  -0.98054416],\n",
       "       [ -0.98054416,   0.        , -40.        ,   0.        ],\n",
       "       [  0.        ,  -0.98054416,   0.        , -40.        ]])"
      ]
     },
     "execution_count": 86,
     "metadata": {},
     "output_type": "execute_result"
    }
   ],
   "source": [
    "H2.tocsc()[:4, :4].toarray().real"
   ]
  },
  {
   "cell_type": "code",
   "execution_count": 31,
   "id": "a6ec4077-14d8-4da2-b6c5-e84dd47c9912",
   "metadata": {
    "tags": []
   },
   "outputs": [
    {
     "ename": "NameError",
     "evalue": "name 'Delta' is not defined",
     "output_type": "error",
     "traceback": [
      "\u001b[0;31m---------------------------------------------------------------------------\u001b[0m",
      "\u001b[0;31mNameError\u001b[0m                                 Traceback (most recent call last)",
      "Cell \u001b[0;32mIn[31], line 5\u001b[0m\n\u001b[1;32m      2\u001b[0m \u001b[38;5;28;01mimport\u001b[39;00m \u001b[38;5;21;01mpylab\u001b[39;00m \u001b[38;5;28;01mas\u001b[39;00m \u001b[38;5;21;01mplt\u001b[39;00m\n\u001b[1;32m      4\u001b[0m \u001b[38;5;66;03m# Plot the array \"A\" using colorize\u001b[39;00m\n\u001b[0;32m----> 5\u001b[0m plt\u001b[38;5;241m.\u001b[39mimshow(colorize(Delta\u001b[38;5;241m*\u001b[39mnp\u001b[38;5;241m.\u001b[39mexp(\u001b[38;5;241m1\u001b[39mj\u001b[38;5;241m*\u001b[39mphi)), interpolation\u001b[38;5;241m=\u001b[39m\u001b[38;5;124m'\u001b[39m\u001b[38;5;124mnone\u001b[39m\u001b[38;5;124m'\u001b[39m, extent\u001b[38;5;241m=\u001b[39m(\u001b[38;5;241m-\u001b[39m\u001b[38;5;241m5\u001b[39m, \u001b[38;5;241m5\u001b[39m, \u001b[38;5;241m-\u001b[39m\u001b[38;5;241m5\u001b[39m, \u001b[38;5;241m5\u001b[39m))\n\u001b[1;32m      6\u001b[0m plt\u001b[38;5;241m.\u001b[39mtitle(\u001b[38;5;124m'\u001b[39m\u001b[38;5;124mComplex Function\u001b[39m\u001b[38;5;124m'\u001b[39m)\n\u001b[1;32m      7\u001b[0m plt\u001b[38;5;241m.\u001b[39mcolorbar(label\u001b[38;5;241m=\u001b[39m\u001b[38;5;124m'\u001b[39m\u001b[38;5;124mAmplitude\u001b[39m\u001b[38;5;124m'\u001b[39m)\n",
      "\u001b[0;31mNameError\u001b[0m: name 'Delta' is not defined"
     ]
    }
   ],
   "source": [
    "import numpy as np\n",
    "import pylab as plt\n",
    "\n",
    "# Plot the array \"A\" using colorize\n",
    "plt.imshow(colorize(Delta*np.exp(1j*phi)), interpolation='none', extent=(-5, 5, -5, 5))\n",
    "plt.title('Complex Function')\n",
    "plt.colorbar(label='Amplitude')\n",
    "plt.show()"
   ]
  },
  {
   "cell_type": "code",
   "execution_count": 135,
   "id": "9ee9d2a0-f53e-4804-aa90-d4719103e054",
   "metadata": {
    "tags": []
   },
   "outputs": [],
   "source": [
    "# #w, v = la.eigh(H)\n",
    "\n",
    "# H_gpu = cp.asarray(H)\n",
    "# w_gpu, v_gpu = cp.linalg.eigh(H_gpu)\n",
    "# w = cp.asnumpy(w_gpu)\n",
    "# v = cp.asnumpy(v_gpu)"
   ]
  },
  {
   "cell_type": "code",
   "execution_count": 136,
   "id": "b34dadeb-673a-4f6c-944c-3252661ab1d9",
   "metadata": {
    "tags": []
   },
   "outputs": [],
   "source": [
    "k = 10\n",
    "ws, vs = sla.eigsh(H, k=k, sigma=0)"
   ]
  },
  {
   "cell_type": "code",
   "execution_count": 137,
   "id": "7ec54274-4d42-42f2-9848-335d16a37ce1",
   "metadata": {
    "tags": []
   },
   "outputs": [],
   "source": [
    "sort_idxs = np.argsort(ws)\n",
    "ws=ws[sort_idxs]\n",
    "vs=vs[:, sort_idxs]"
   ]
  },
  {
   "cell_type": "code",
   "execution_count": 138,
   "id": "4c44e1d1-8636-482c-8071-f76b35033236",
   "metadata": {
    "tags": []
   },
   "outputs": [
    {
     "data": {
      "text/plain": [
       "array([-0.1454561 , -0.08873183, -0.08873183, -0.0298711 , -0.0298711 ,\n",
       "        0.0298711 ,  0.0298711 ,  0.08873183,  0.08873183,  0.1454561 ])"
      ]
     },
     "execution_count": 138,
     "metadata": {},
     "output_type": "execute_result"
    }
   ],
   "source": [
    "ws"
   ]
  },
  {
   "cell_type": "code",
   "execution_count": 139,
   "id": "e2df19e5-ea95-4da4-823d-c3e0b714b098",
   "metadata": {
    "tags": []
   },
   "outputs": [],
   "source": [
    "idx = np.argmin(abs(ws))\n",
    "v = vs[:, idx]\n",
    "v_r = v.reshape(Ny, Nx, 4, order='C')"
   ]
  },
  {
   "cell_type": "code",
   "execution_count": 140,
   "id": "76562905-5851-4dd6-8a95-bfa3001377c2",
   "metadata": {
    "tags": []
   },
   "outputs": [
    {
     "data": {
      "text/plain": [
       "<matplotlib.colorbar.Colorbar at 0x7f6ca2e65c90>"
      ]
     },
     "execution_count": 140,
     "metadata": {},
     "output_type": "execute_result"
    },
    {
     "data": {
      "image/png": "[encoded data removed]",
      "text/plain": [
       "<Figure size 640x480 with 2 Axes>"
      ]
     },
     "metadata": {},
     "output_type": "display_data"
    }
   ],
   "source": [
    "fig, ax = plt.subplots()\n",
    "im = ax.contourf(x, y, (np.abs(v_r[:])**2).sum(axis=-1), levels=100)\n",
    "#plt.contour(x, y, np.abs(Delta)**2, levels=5, colors='w')\n",
    "fig.colorbar(im)"
   ]
  },
  {
   "cell_type": "code",
   "execution_count": 141,
   "id": "d0c21057-094a-409d-9325-b6d0ce15e809",
   "metadata": {
    "tags": []
   },
   "outputs": [
    {
     "data": {
      "text/plain": [
       "(161604, 161604)"
      ]
     },
     "execution_count": 141,
     "metadata": {},
     "output_type": "execute_result"
    }
   ],
   "source": [
    "H.shape"
   ]
  },
  {
   "cell_type": "code",
   "execution_count": null,
   "id": "ed6f418c-2aaf-4d4e-9930-ae8a244b2669",
   "metadata": {},
   "outputs": [],
   "source": [
    "J_op = i (H.conj().T M - M H)"
   ]
  },
  {
   "cell_type": "code",
   "execution_count": 98,
   "id": "efff630a-a736-4302-b627-8402af4a44c4",
   "metadata": {
    "tags": []
   },
   "outputs": [
    {
     "ename": "IndexError",
     "evalue": "index 5203 is out of bounds for axis 2 with size 4",
     "output_type": "error",
     "traceback": [
      "\u001b[0;31m---------------------------------------------------------------------------\u001b[0m",
      "\u001b[0;31mIndexError\u001b[0m                                Traceback (most recent call last)",
      "Cell \u001b[0;32mIn[98], line 1\u001b[0m\n\u001b[0;32m----> 1\u001b[0m plt\u001b[38;5;241m.\u001b[39mcontourf(x, y, (np\u001b[38;5;241m.\u001b[39mabs(v_r[\u001b[38;5;241m.\u001b[39m\u001b[38;5;241m.\u001b[39m\u001b[38;5;241m.\u001b[39m, (Ny\u001b[38;5;241m*\u001b[39mNx\u001b[38;5;241m*\u001b[39m\u001b[38;5;241m4\u001b[39m)\u001b[38;5;241m/\u001b[39m\u001b[38;5;241m/\u001b[39m\u001b[38;5;241m2\u001b[39m\u001b[38;5;241m+\u001b[39m\u001b[38;5;241m1\u001b[39m])\u001b[38;5;241m*\u001b[39m\u001b[38;5;241m*\u001b[39m\u001b[38;5;241m2\u001b[39m)\u001b[38;5;241m.\u001b[39msum(axis\u001b[38;5;241m=\u001b[39m\u001b[38;5;241m-\u001b[39m\u001b[38;5;241m1\u001b[39m), levels\u001b[38;5;241m=\u001b[39m\u001b[38;5;241m100\u001b[39m)\n\u001b[1;32m      2\u001b[0m plt\u001b[38;5;241m.\u001b[39mcontour(x, y, np\u001b[38;5;241m.\u001b[39mabs(Delta)\u001b[38;5;241m*\u001b[39m\u001b[38;5;241m*\u001b[39m\u001b[38;5;241m2\u001b[39m, levels\u001b[38;5;241m=\u001b[39m\u001b[38;5;241m5\u001b[39m, colors\u001b[38;5;241m=\u001b[39m\u001b[38;5;124m'\u001b[39m\u001b[38;5;124mw\u001b[39m\u001b[38;5;124m'\u001b[39m)\n\u001b[1;32m      3\u001b[0m plt\u001b[38;5;241m.\u001b[39mcolorbar()\n",
      "\u001b[0;31mIndexError\u001b[0m: index 5203 is out of bounds for axis 2 with size 4"
     ]
    }
   ],
   "source": [
    "plt.contourf(x, y, (np.abs(v_r[..., (Ny*Nx*4)//2+1])**2).sum(axis=-1), levels=100)\n",
    "plt.contour(x, y, np.abs(Delta)**2, levels=5, colors='w')\n",
    "plt.colorbar()"
   ]
  },
  {
   "cell_type": "code",
   "execution_count": 99,
   "id": "c01ecffd-9116-424f-8d84-f310bf186346",
   "metadata": {
    "tags": []
   },
   "outputs": [
    {
     "ename": "ValueError",
     "evalue": "cannot reshape array of size 1 into shape (2601,4)",
     "output_type": "error",
     "traceback": [
      "\u001b[0;31m---------------------------------------------------------------------------\u001b[0m",
      "\u001b[0;31mValueError\u001b[0m                                Traceback (most recent call last)",
      "Cell \u001b[0;32mIn[99], line 2\u001b[0m\n\u001b[1;32m      1\u001b[0m v0 \u001b[38;5;241m=\u001b[39m v[\u001b[38;5;241m.\u001b[39m\u001b[38;5;241m.\u001b[39m\u001b[38;5;241m.\u001b[39m, (Ny\u001b[38;5;241m*\u001b[39mNx\u001b[38;5;241m*\u001b[39m\u001b[38;5;241m4\u001b[39m)\u001b[38;5;241m/\u001b[39m\u001b[38;5;241m/\u001b[39m\u001b[38;5;241m2\u001b[39m]\n\u001b[0;32m----> 2\u001b[0m v0_r \u001b[38;5;241m=\u001b[39m v0\u001b[38;5;241m.\u001b[39mreshape(Ny\u001b[38;5;241m*\u001b[39mNx, \u001b[38;5;241m4\u001b[39m)\n",
      "\u001b[0;31mValueError\u001b[0m: cannot reshape array of size 1 into shape (2601,4)"
     ]
    }
   ],
   "source": [
    "v0 = v[..., (Ny*Nx*4)//2]\n",
    "v0_r = v0.reshape(Ny*Nx, 4)"
   ]
  },
  {
   "cell_type": "code",
   "execution_count": 100,
   "id": "a23363b9-849a-4d55-874f-7b2d4c910c31",
   "metadata": {
    "tags": []
   },
   "outputs": [
    {
     "ename": "NameError",
     "evalue": "name 'v0_r' is not defined",
     "output_type": "error",
     "traceback": [
      "\u001b[0;31m---------------------------------------------------------------------------\u001b[0m",
      "\u001b[0;31mNameError\u001b[0m                                 Traceback (most recent call last)",
      "Cell \u001b[0;32mIn[100], line 1\u001b[0m\n\u001b[0;32m----> 1\u001b[0m J_x \u001b[38;5;241m=\u001b[39m np\u001b[38;5;241m.\u001b[39meinsum(\u001b[38;5;124m\"\u001b[39m\u001b[38;5;124mis, ij, js -> is\u001b[39m\u001b[38;5;124m\"\u001b[39m, v_r\u001b[38;5;241m.\u001b[39mconj(), Dx, v0_r)\n\u001b[1;32m      2\u001b[0m J_y \u001b[38;5;241m=\u001b[39m np\u001b[38;5;241m.\u001b[39meinsum(\u001b[38;5;124m\"\u001b[39m\u001b[38;5;124mis, ij, js -> is\u001b[39m\u001b[38;5;124m\"\u001b[39m, v_r\u001b[38;5;241m.\u001b[39mconj(), Dy, v0_r)\n\u001b[1;32m      4\u001b[0m J_n_x \u001b[38;5;241m=\u001b[39m np\u001b[38;5;241m.\u001b[39meinsum(\u001b[38;5;124m\"\u001b[39m\u001b[38;5;124mij -> i\u001b[39m\u001b[38;5;124m\"\u001b[39m, J_x)\n",
      "\u001b[0;31mNameError\u001b[0m: name 'v0_r' is not defined"
     ]
    }
   ],
   "source": [
    "J_x = np.einsum(\"is, ij, js -> is\", v_r.conj(), Dx, v0_r)\n",
    "J_y = np.einsum(\"is, ij, js -> is\", v_r.conj(), Dy, v0_r)\n",
    "\n",
    "J_n_x = np.einsum(\"ij -> i\", J_x)\n",
    "J_n_y = np.einsum(\"ij -> i\", J_y)"
   ]
  },
  {
   "cell_type": "code",
   "execution_count": 97,
   "id": "a02fdca2-ca1f-47d9-98fd-7107e0c22aae",
   "metadata": {
    "tags": []
   },
   "outputs": [
    {
     "ename": "NameError",
     "evalue": "name 'J_n_x' is not defined",
     "output_type": "error",
     "traceback": [
      "\u001b[0;31m---------------------------------------------------------------------------\u001b[0m",
      "\u001b[0;31mNameError\u001b[0m                                 Traceback (most recent call last)",
      "Cell \u001b[0;32mIn[97], line 1\u001b[0m\n\u001b[0;32m----> 1\u001b[0m plt\u001b[38;5;241m.\u001b[39mquiver(x, y, J_n_x\u001b[38;5;241m.\u001b[39mreshape(Ny, Nx), J_n_y\u001b[38;5;241m.\u001b[39mreshape(Ny, Nx))\n",
      "\u001b[0;31mNameError\u001b[0m: name 'J_n_x' is not defined"
     ]
    }
   ],
   "source": [
    "plt.quiver(x, y, J_n_x.reshape(Ny, Nx), J_n_y.reshape(Ny, Nx))"
   ]
  },
  {
   "cell_type": "code",
   "execution_count": null,
   "id": "0f32180b-f271-4ed3-b6e6-7f161577449b",
   "metadata": {
    "tags": []
   },
   "outputs": [],
   "source": [
    "J_x"
   ]
  },
  {
   "cell_type": "code",
   "execution_count": 8,
   "id": "61fc2b79-f6d6-498a-bda5-135829daf546",
   "metadata": {},
   "outputs": [],
   "source": [
    "    x, y, r, theta, Dx, Dy, Lx, Ly = generate_grid_and_operators(Nx, Ny)\n"
   ]
  },
  {
   "cell_type": "code",
   "execution_count": 15,
   "id": "6040738e-a310-4466-8fb4-e1b23b795681",
   "metadata": {
    "tags": []
   },
   "outputs": [
    {
     "data": {
      "text/plain": [
       "array([[-0.25,  0.  ,  0.25,  0.  ,  0.  ,  0.  ,  0.  ,  0.  ],\n",
       "       [ 0.  , -0.5 ,  0.  ,  0.25,  0.  ,  0.  ,  0.  ,  0.  ],\n",
       "       [ 0.25,  0.  , -0.5 ,  0.  ,  0.25,  0.  ,  0.  ,  0.  ],\n",
       "       [ 0.  ,  0.25,  0.  , -0.5 ,  0.  ,  0.25,  0.  ,  0.  ],\n",
       "       [ 0.  ,  0.  ,  0.25,  0.  , -0.5 ,  0.  ,  0.25,  0.  ],\n",
       "       [ 0.  ,  0.  ,  0.  ,  0.25,  0.  , -0.5 ,  0.  ,  0.25],\n",
       "       [ 0.  ,  0.  ,  0.  ,  0.  ,  0.25,  0.  , -0.5 ,  0.  ],\n",
       "       [ 0.  ,  0.  ,  0.  ,  0.  ,  0.  ,  0.25,  0.  , -0.5 ]])"
      ]
     },
     "execution_count": 15,
     "metadata": {},
     "output_type": "execute_result"
    }
   ],
   "source": [
    "(Dx@Dx).tocsc()[:8, :8].toarray()"
   ]
  },
  {
   "cell_type": "code",
   "execution_count": null,
   "id": "d171abe1-27da-4fcf-91be-46dfc450a48c",
   "metadata": {},
   "outputs": [],
   "source": []
  }
 ],
 "metadata": {
  "kernelspec": {
   "display_name": "Python [conda env:kwantenv]",
   "language": "python",
   "name": "conda-env-kwantenv-py"
  },
  "language_info": {
   "codemirror_mode": {
    "name": "ipython",
    "version": 3
   },
   "file_extension": ".py",
   "mimetype": "text/x-python",
   "name": "python",
   "nbconvert_exporter": "python",
   "pygments_lexer": "ipython3",
   "version": "3.11.5"
  }
 },
 "nbformat": 4,
 "nbformat_minor": 5
}
