{
 "cells": [
  {
   "cell_type": "code",
   "execution_count": 33,
   "metadata": {},
   "outputs": [
    {
     "data": {
      "application/vnd.jupyter.widget-view+json": {
       "model_id": "7e29d7f3a70c48a0b82bf93698c4d798",
       "version_major": 2,
       "version_minor": 0
      },
      "text/plain": [
       "interactive(children=(FloatSlider(value=0.0, description='h0', max=1.0, step=0.01), FloatSlider(value=0.0, des…"
      ]
     },
     "metadata": {},
     "output_type": "display_data"
    }
   ],
   "source": [
    "import numpy as np\n",
    "import matplotlib.pyplot as plt\n",
    "from scipy.integrate import quad\n",
    "from ipywidgets import interactive\n",
    "from IPython.display import display\n",
    "\n",
    "\n",
    "def DOS(omega, Delta, h0, eta, sigma):\n",
    "    def integrand(phi):\n",
    "        return np.imag(\n",
    "            (omega + sigma * h0 * np.cos(2 * phi))\n",
    "            / np.sqrt(\n",
    "                (1 - eta**2 * np.cos(2 * phi) ** 2) * Delta**2\n",
    "                - (omega + sigma * h0 * np.cos(2 * phi)) ** 2\n",
    "            )\n",
    "        )\n",
    "\n",
    "    integral, abserr = quad(integrand, 0, 2 * np.pi, limit=200)\n",
    "    return integral\n",
    "\n",
    "\n",
    "def calculate_DOS(omega_ax, h, eta, Gamma):\n",
    "    dos_func = (\n",
    "        lambda omega: 1\n",
    "        / (4 * np.pi)\n",
    "        * (\n",
    "            DOS(omega + Gamma * 1j, 1, h, eta, +1)\n",
    "            + DOS(omega + Gamma * 1j, 1, h, eta, -1)\n",
    "        )\n",
    "    )\n",
    "    dos_values = [dos_func(omega_val) for omega_val in omega_ax]\n",
    "    return np.array(dos_values)\n",
    "\n",
    "\n",
    "def plot_DOS(h0, eta, Gamma):\n",
    "    omega_ax = np.linspace(-4, 4, 501)\n",
    "    dos = calculate_DOS(omega_ax, h0, eta, Gamma)\n",
    "\n",
    "    plt.figure(figsize=(8, 6))\n",
    "    plt.plot(omega_ax, dos)\n",
    "    plt.xlabel(r\"$\\omega$\")\n",
    "    plt.ylabel(r\"$n(\\omega)$\")\n",
    "    plt.grid(True)\n",
    "    plt.show()\n",
    "\n",
    "\n",
    "# Use interactive to create sliders automatically\n",
    "interactive_plot = interactive(\n",
    "    plot_DOS, h0=(0, 1, 0.01), eta=(0, 1, 0.01), Gamma=(0.0001, 0.005, 0.0001)\n",
    ")\n",
    "\n",
    "# Display interactive plot\n",
    "display(interactive_plot)"
   ]
  },
  {
   "cell_type": "code",
   "execution_count": 54,
   "metadata": {},
   "outputs": [
    {
     "data": {
      "image/png": "[encoded data removed]",
      "text/plain": [
       "<Figure size 400x400 with 1 Axes>"
      ]
     },
     "metadata": {},
     "output_type": "display_data"
    }
   ],
   "source": [
    "dos = calculate_DOS(omega_ax, 0.25, 0.005, 0.001)\n",
    "\n",
    "\n",
    "fig, ax = plt.subplots(figsize=(4, 4))\n",
    "ax.fill_betweenx(omega_ax, dos * 0, dos)\n",
    "ax.hlines([1, 0.75, 1.25], 0, 3, colors=\"black\")\n",
    "ax.set_ylim(-2, 2)\n",
    "fig.savefig(\"dos.svg\")"
   ]
  },
  {
   "cell_type": "code",
   "execution_count": 1,
   "metadata": {},
   "outputs": [
    {
     "data": {
      "application/vnd.jupyter.widget-view+json": {
       "model_id": "6e8a276fc2f4427bafc52a005e4ea704",
       "version_major": 2,
       "version_minor": 0
      },
      "text/plain": [
       "interactive(children=(FloatSlider(value=0.0, description='hz', max=1.0, step=0.01), FloatSlider(value=0.0, des…"
      ]
     },
     "metadata": {},
     "output_type": "display_data"
    }
   ],
   "source": [
    "import numpy as np\n",
    "import matplotlib.pyplot as plt\n",
    "from scipy.integrate import quad\n",
    "from ipywidgets import interactive\n",
    "from IPython.display import display\n",
    "\n",
    "\n",
    "def DOS(omega, Delta, hz, h0, eta, sigma):\n",
    "    def integrand(phi):\n",
    "        return np.imag(\n",
    "            (omega + sigma * (hz + h0 * np.cos(2 * phi)))\n",
    "            / np.sqrt(\n",
    "                (1 - eta**2 * np.cos(2 * phi) ** 2) * Delta**2\n",
    "                - (omega + sigma * (hz + h0 * np.cos(2 * phi))) ** 2\n",
    "            )\n",
    "        )\n",
    "\n",
    "    integral, abserr = quad(integrand, 0, 2 * np.pi, limit=200)\n",
    "    return integral\n",
    "\n",
    "\n",
    "def calculate_DOS(omega_ax, hz, h0, eta, Gamma):\n",
    "    dos_func = (\n",
    "        lambda omega: 1\n",
    "        / (4 * np.pi)\n",
    "        * (\n",
    "            DOS(omega + Gamma * 1j, 1, hz, h0, eta, +1)\n",
    "            + DOS(omega + Gamma * 1j, 1, hz, h0, eta, -1)\n",
    "        )\n",
    "    )\n",
    "    dos_values = [dos_func(omega_val) for omega_val in omega_ax]\n",
    "    return np.array(dos_values)\n",
    "\n",
    "\n",
    "def plot_DOS(hz, h0, eta, Gamma):\n",
    "    omega_ax = np.linspace(-4, 4, 501)\n",
    "    dos = calculate_DOS(omega_ax, hz, h0, eta, Gamma)\n",
    "\n",
    "    plt.figure(figsize=(8, 6))\n",
    "    plt.plot(omega_ax, dos)\n",
    "    plt.xlabel(r\"$\\omega$\")\n",
    "    plt.ylabel(r\"$n(\\omega)$\")\n",
    "    plt.grid(True)\n",
    "    plt.show()\n",
    "\n",
    "\n",
    "# Use interactive to create sliders automatically\n",
    "interactive_plot = interactive(\n",
    "    plot_DOS,\n",
    "    hz=(0, 1, 0.01),\n",
    "    h0=(0, 1, 0.01),\n",
    "    eta=(0, 1, 0.01),\n",
    "    Gamma=(0.0001, 0.005, 0.0001),\n",
    ")\n",
    "\n",
    "# Display interactive plot\n",
    "display(interactive_plot)"
   ]
  }
 ],
 "metadata": {
  "kernelspec": {
   "display_name": "qenv311",
   "language": "python",
   "name": "python3"
  },
  "language_info": {
   "codemirror_mode": {
    "name": "ipython",
    "version": 3
   },
   "file_extension": ".py",
   "mimetype": "text/x-python",
   "name": "python",
   "nbconvert_exporter": "python",
   "pygments_lexer": "ipython3",
   "version": "3.11.0"
  }
 },
 "nbformat": 4,
 "nbformat_minor": 2
}
