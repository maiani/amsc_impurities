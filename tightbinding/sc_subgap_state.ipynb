{
 "cells": [
  {
   "cell_type": "markdown",
   "id": "fcfcf6b5-2351-47da-9417-adab0109f529",
   "metadata": {},
   "source": [
    "# Gaussian impurity with self consistency"
   ]
  },
  {
   "cell_type": "code",
   "execution_count": 1,
   "id": "05e290e7-a9ea-4440-bea7-e6b5764f54f7",
   "metadata": {
    "tags": []
   },
   "outputs": [],
   "source": [
    "import kwant\n",
    "import numpy as np\n",
    "from numpy import linalg as la\n",
    "from amsc import (\n",
    "    bulk_amsc_system,\n",
    "    generate_intial_Delta,\n",
    "    setup_gaussian_impurities,\n",
    ")\n",
    "from tqdm.notebook import tqdm\n",
    "from pauli import *\n",
    "from qm_tools import sparse_diag\n",
    "from scipy.interpolate import RegularGridInterpolator"
   ]
  },
  {
   "cell_type": "code",
   "execution_count": 2,
   "id": "7a7c3c8b",
   "metadata": {},
   "outputs": [],
   "source": [
    "# eigsh = sla.eigsh\n",
    "eigsh = sparse_diag"
   ]
  },
  {
   "cell_type": "code",
   "execution_count": 3,
   "id": "2cb7f07e-2dd2-4128-bcd5-3e4b5aa61ccd",
   "metadata": {
    "tags": []
   },
   "outputs": [],
   "source": [
    "periodic_bc = False\n",
    "\n",
    "Nx = 61\n",
    "Ny = 61\n",
    "\n",
    "x_ax = np.linspace(-(Nx // 2), (Nx // 2), Nx)\n",
    "y_ax = np.linspace(-(Ny // 2), (Ny // 2), Ny)\n",
    "x, y = np.meshgrid(x_ax, y_ax)\n",
    "\n",
    "t = 5.0\n",
    "t_so = 0.0 * t\n",
    "t_am = 0.25 * t\n",
    "\n",
    "mu = 2.5\n",
    "hz0 = 1e-6\n",
    "hx0 = 0\n",
    "hy0 = 0\n",
    "\n",
    "## Initial value for Delta (will be used to determine g)\n",
    "Delta_init = 1"
   ]
  },
  {
   "cell_type": "code",
   "execution_count": 4,
   "id": "ade48ede-4650-4076-b28a-82c2e9ee2a6b",
   "metadata": {},
   "outputs": [],
   "source": [
    "# Impurituy positions\n",
    "impurity_positions = [(0, 0)]\n",
    "impurity_sizes = [2.2]\n",
    "impurity_eccentricities = [0.0]\n",
    "impurity_orientation = [0.0]\n",
    "\n",
    "hx_imp = [0.0]\n",
    "hy_imp = [0.0]\n",
    "hz_imp = [0.0]"
   ]
  },
  {
   "cell_type": "code",
   "execution_count": 5,
   "id": "5170b356-32ef-43ff-a0b0-6a07b91c8504",
   "metadata": {
    "tags": []
   },
   "outputs": [],
   "source": [
    "vortex_positions = []\n",
    "windings = []\n",
    "l_core = 0\n",
    "\n",
    "Delta_0, theta_0 = generate_intial_Delta(\n",
    "    x=x,\n",
    "    y=y,\n",
    "    Delta_init=Delta_init,\n",
    "    vortex_positions=vortex_positions,\n",
    "    windings=windings,\n",
    "    l_core=l_core,\n",
    ")"
   ]
  },
  {
   "cell_type": "code",
   "execution_count": 6,
   "id": "38796aec",
   "metadata": {},
   "outputs": [],
   "source": [
    "N = 1024\n",
    "g = 10.2"
   ]
  },
  {
   "cell_type": "code",
   "execution_count": 19,
   "id": "889141de",
   "metadata": {},
   "outputs": [],
   "source": [
    "def solve_for_V(\n",
    "    Vs,\n",
    "    g,\n",
    "    Delta_0,\n",
    "    theta_0,\n",
    "    tol,\n",
    "    maxiter,\n",
    "    mixing,\n",
    "    T,\n",
    "):\n",
    "    \"\"\"\n",
    "    Solve the self-consistent problem for an impurity in an altermagnetic superconductor\n",
    "    for a given value of Vs.\n",
    "    \"\"\"\n",
    "\n",
    "    # Define the potential field\n",
    "    V, hx, hy, hz = setup_gaussian_impurities(\n",
    "        x=x,\n",
    "        y=y,\n",
    "        mu=mu,\n",
    "        hx0=hx0,\n",
    "        hy0=hy0,\n",
    "        hz0=hz0,\n",
    "        impurity_sizes=impurity_sizes,\n",
    "        impurity_positions=impurity_positions,\n",
    "        impurity_eccentricities=impurity_eccentricities,\n",
    "        impurity_orientations=impurity_orientation,\n",
    "        V_imp=[Vs],\n",
    "        hx_imp=hx_imp,\n",
    "        hy_imp=hy_imp,\n",
    "        hz_imp=hz_imp,\n",
    "    )\n",
    "\n",
    "    syst, lat = bulk_amsc_system(\n",
    "        Nx=Nx,\n",
    "        Ny=Ny,\n",
    "        t=t,\n",
    "        t_so=t_so,\n",
    "        t_am=t_am,\n",
    "        V=V,\n",
    "        Delta=Delta_0,\n",
    "        theta=theta_0,\n",
    "        hx=hx,\n",
    "        hy=hy,\n",
    "        hz=hz,\n",
    "        periodic_bc=periodic_bc,\n",
    "    )\n",
    "\n",
    "    fsyst = syst.finalized()\n",
    "\n",
    "    # Singlet correlations operator\n",
    "    txs0_op = kwant.operator.Density(fsyst, onsite=txs0, sum=False)\n",
    "    tys0_op = kwant.operator.Density(fsyst, onsite=tys0, sum=False)\n",
    "\n",
    "    Delta = Delta_0\n",
    "    theta = theta_0\n",
    "\n",
    "    Delta_n = Delta(x, y).flatten()\n",
    "    theta_n = theta(x, y).flatten()\n",
    "\n",
    "    for iter_number in range(maxiter):\n",
    "        H = fsyst.hamiltonian_submatrix(\n",
    "            params=dict(Delta=Delta, theta=theta), sparse=True\n",
    "        )\n",
    "\n",
    "        # Diagonalize the sytem\n",
    "        ws, vs = eigsh(H, k=N, sigma=0)\n",
    "\n",
    "        sort_idxs = np.argsort(ws)\n",
    "        vs = vs[:, sort_idxs]\n",
    "        ws = ws[sort_idxs]\n",
    "\n",
    "        # Calculate correlation functions\n",
    "        txs0_ev = np.zeros((N, Nx * Ny))\n",
    "        tys0_ev = np.zeros((N, Nx * Ny))\n",
    "\n",
    "        for i in range(N):\n",
    "            txs0_ev[i] = txs0_op(vs[:, i])\n",
    "            tys0_ev[i] = tys0_op(vs[:, i])\n",
    "\n",
    "        Fx = np.einsum(\"ni, n -> i\", txs0_ev, np.tanh(ws / (2 * T)))\n",
    "        Fy = np.einsum(\"ni, n -> i\", tys0_ev, np.tanh(ws / (2 * T)))\n",
    "\n",
    "        # Calculate the order parameter\n",
    "        Delta_n_new = g * np.sqrt(Fx**2 + Fy**2)\n",
    "        theta_n_new = np.arctan2(Fy, Fx)\n",
    "\n",
    "        Delta_n = (1 - mixing) * Delta_n + mixing * Delta_n_new\n",
    "        theta_n = (1 - mixing) * theta_n + mixing * theta_n_new\n",
    "\n",
    "        diff = np.mean((Delta_n.reshape(Nx, Ny) - Delta(x, y)) ** 2)\n",
    "        print(f\"Iteration {iter_number:2d}, the average error is: {diff:5f}\")\n",
    "\n",
    "        # Create the new interpolation functions\n",
    "        Delta_interp = RegularGridInterpolator((y_ax, x_ax), Delta_n.reshape(Ny, Nx))\n",
    "        theta_interp = RegularGridInterpolator((y_ax, x_ax), theta_n.reshape(Ny, Nx))\n",
    "\n",
    "        # Update the order parameter\n",
    "        Delta = lambda x, y: Delta_interp((y, x))\n",
    "        theta = lambda x, y: theta_interp((y, x))\n",
    "\n",
    "        if diff < tol:\n",
    "            break\n",
    "\n",
    "    return Delta_n, theta_n, ws, vs"
   ]
  },
  {
   "cell_type": "code",
   "execution_count": 20,
   "id": "34c6ce90",
   "metadata": {},
   "outputs": [],
   "source": [
    "Vss = np.arange(8, 25.5, 0.5)\n",
    "NVs = len(Vss)"
   ]
  },
  {
   "cell_type": "code",
   "execution_count": 21,
   "id": "436b7363",
   "metadata": {},
   "outputs": [
    {
     "data": {
      "application/vnd.jupyter.widget-view+json": {
       "model_id": "3ddb358cd54144dbbb6c94a9583c3ded",
       "version_major": 2,
       "version_minor": 0
      },
      "text/plain": [
       "  0%|          | 0/35 [00:00<?, ?it/s]"
      ]
     },
     "metadata": {},
     "output_type": "display_data"
    },
    {
     "name": "stdout",
     "output_type": "stream",
     "text": [
      "V = -8.0\n",
      "Iteration  0, the average error is: 0.280509\n",
      "Iteration  1, the average error is: 0.017532\n",
      "Iteration  2, the average error is: 0.001096\n",
      "Iteration  3, the average error is: 0.000068\n",
      "Iteration  4, the average error is: 0.000004\n",
      "Iteration  5, the average error is: 0.000000\n",
      "Iteration  6, the average error is: 0.000000\n",
      "V = -8.5\n",
      "Iteration  0, the average error is: 0.280606\n"
     ]
    },
    {
     "ename": "KeyboardInterrupt",
     "evalue": "",
     "output_type": "error",
     "traceback": [
      "\u001b[0;31m---------------------------------------------------------------------------\u001b[0m",
      "\u001b[0;31mKeyboardInterrupt\u001b[0m                         Traceback (most recent call last)",
      "Cell \u001b[0;32mIn[21], line 4\u001b[0m\n\u001b[1;32m      1\u001b[0m \u001b[38;5;28;01mfor\u001b[39;00m i, Vs \u001b[38;5;129;01min\u001b[39;00m tqdm(\u001b[38;5;28menumerate\u001b[39m(Vss), total\u001b[38;5;241m=\u001b[39m\u001b[38;5;28mlen\u001b[39m(Vss)):\n\u001b[1;32m      2\u001b[0m     \u001b[38;5;28mprint\u001b[39m(\u001b[38;5;124mf\u001b[39m\u001b[38;5;124m\"\u001b[39m\u001b[38;5;124mV = \u001b[39m\u001b[38;5;132;01m{\u001b[39;00m\u001b[38;5;241m-\u001b[39mVs\u001b[38;5;132;01m}\u001b[39;00m\u001b[38;5;124m\"\u001b[39m)\n\u001b[0;32m----> 4\u001b[0m     Delta_n, theta_n, ws, vs \u001b[38;5;241m=\u001b[39m solve_for_V(\n\u001b[1;32m      5\u001b[0m         Vs\u001b[38;5;241m=\u001b[39mVs,\n\u001b[1;32m      6\u001b[0m         g\u001b[38;5;241m=\u001b[39mg,\n\u001b[1;32m      7\u001b[0m         Delta_0\u001b[38;5;241m=\u001b[39mDelta_0,\n\u001b[1;32m      8\u001b[0m         theta_0\u001b[38;5;241m=\u001b[39mtheta_0,\n\u001b[1;32m      9\u001b[0m         tol\u001b[38;5;241m=\u001b[39m\u001b[38;5;241m1e-7\u001b[39m,\n\u001b[1;32m     10\u001b[0m         maxiter\u001b[38;5;241m=\u001b[39m\u001b[38;5;241m10\u001b[39m,\n\u001b[1;32m     11\u001b[0m         mixing\u001b[38;5;241m=\u001b[39m\u001b[38;5;241m0.75\u001b[39m,\n\u001b[1;32m     12\u001b[0m         T\u001b[38;5;241m=\u001b[39m\u001b[38;5;241m1e-3\u001b[39m,\n\u001b[1;32m     13\u001b[0m     )\n\u001b[1;32m     15\u001b[0m     file_path \u001b[38;5;241m=\u001b[39m \u001b[38;5;124mf\u001b[39m\u001b[38;5;124m\"\u001b[39m\u001b[38;5;124m./data2/data_V\u001b[39m\u001b[38;5;132;01m{\u001b[39;00m\u001b[38;5;28mint\u001b[39m(Vss[i]\u001b[38;5;241m*\u001b[39m\u001b[38;5;241m10\u001b[39m)\u001b[38;5;132;01m:\u001b[39;00m\u001b[38;5;124m03d\u001b[39m\u001b[38;5;132;01m}\u001b[39;00m\u001b[38;5;124m.npz\u001b[39m\u001b[38;5;124m\"\u001b[39m\n\u001b[1;32m     16\u001b[0m     np\u001b[38;5;241m.\u001b[39msavez(file_path, Delta_n\u001b[38;5;241m=\u001b[39mDelta_n, theta_n\u001b[38;5;241m=\u001b[39mtheta_n, ws\u001b[38;5;241m=\u001b[39mws, vs\u001b[38;5;241m=\u001b[39mvs)\n",
      "Cell \u001b[0;32mIn[19], line 67\u001b[0m, in \u001b[0;36msolve_for_V\u001b[0;34m(Vs, g, Delta_0, theta_0, tol, maxiter, mixing, T)\u001b[0m\n\u001b[1;32m     62\u001b[0m H \u001b[38;5;241m=\u001b[39m fsyst\u001b[38;5;241m.\u001b[39mhamiltonian_submatrix(\n\u001b[1;32m     63\u001b[0m     params\u001b[38;5;241m=\u001b[39m\u001b[38;5;28mdict\u001b[39m(Delta\u001b[38;5;241m=\u001b[39mDelta, theta\u001b[38;5;241m=\u001b[39mtheta), sparse\u001b[38;5;241m=\u001b[39m\u001b[38;5;28;01mTrue\u001b[39;00m\n\u001b[1;32m     64\u001b[0m )\n\u001b[1;32m     66\u001b[0m \u001b[38;5;66;03m# Diagonalize the sytem\u001b[39;00m\n\u001b[0;32m---> 67\u001b[0m ws, vs \u001b[38;5;241m=\u001b[39m eigsh(H, k\u001b[38;5;241m=\u001b[39mN, sigma\u001b[38;5;241m=\u001b[39m\u001b[38;5;241m0\u001b[39m)\n\u001b[1;32m     69\u001b[0m sort_idxs \u001b[38;5;241m=\u001b[39m np\u001b[38;5;241m.\u001b[39margsort(ws)\n\u001b[1;32m     70\u001b[0m vs \u001b[38;5;241m=\u001b[39m vs[:, sort_idxs]\n",
      "File \u001b[0;32m~/workspace/amvortex/tightbinding/qm_tools.py:33\u001b[0m, in \u001b[0;36msparse_diag\u001b[0;34m(matrix, k, sigma, **kwargs)\u001b[0m\n\u001b[1;32m     30\u001b[0m     \u001b[38;5;28;01mdef\u001b[39;00m \u001b[38;5;21m_matvec\u001b[39m(\u001b[38;5;28mself\u001b[39m, x):\n\u001b[1;32m     31\u001b[0m         \u001b[38;5;28;01mreturn\u001b[39;00m \u001b[38;5;28mself\u001b[39m\u001b[38;5;241m.\u001b[39msolve(x\u001b[38;5;241m.\u001b[39mastype(\u001b[38;5;28mself\u001b[39m\u001b[38;5;241m.\u001b[39mdtype))\n\u001b[0;32m---> 33\u001b[0m opinv \u001b[38;5;241m=\u001b[39m LuInv(matrix \u001b[38;5;241m-\u001b[39m sigma \u001b[38;5;241m*\u001b[39m sp\u001b[38;5;241m.\u001b[39midentity(matrix\u001b[38;5;241m.\u001b[39mshape[\u001b[38;5;241m0\u001b[39m]))\n\u001b[1;32m     34\u001b[0m \u001b[38;5;28;01mreturn\u001b[39;00m sla\u001b[38;5;241m.\u001b[39meigsh(matrix, k, sigma\u001b[38;5;241m=\u001b[39msigma, OPinv\u001b[38;5;241m=\u001b[39mopinv, \u001b[38;5;241m*\u001b[39m\u001b[38;5;241m*\u001b[39mkwargs)\n",
      "File \u001b[0;32m~/workspace/amvortex/tightbinding/qm_tools.py:26\u001b[0m, in \u001b[0;36msparse_diag.<locals>.LuInv.__init__\u001b[0;34m(self, A)\u001b[0m\n\u001b[1;32m     24\u001b[0m inst \u001b[38;5;241m=\u001b[39m mumps\u001b[38;5;241m.\u001b[39mContext()\n\u001b[1;32m     25\u001b[0m inst\u001b[38;5;241m.\u001b[39manalyze(A, ordering\u001b[38;5;241m=\u001b[39m\u001b[38;5;124m\"\u001b[39m\u001b[38;5;124mpord\u001b[39m\u001b[38;5;124m\"\u001b[39m)\n\u001b[0;32m---> 26\u001b[0m inst\u001b[38;5;241m.\u001b[39mfactor(A)\n\u001b[1;32m     27\u001b[0m \u001b[38;5;28mself\u001b[39m\u001b[38;5;241m.\u001b[39msolve \u001b[38;5;241m=\u001b[39m inst\u001b[38;5;241m.\u001b[39msolve\n\u001b[1;32m     28\u001b[0m sla\u001b[38;5;241m.\u001b[39mLinearOperator\u001b[38;5;241m.\u001b[39m\u001b[38;5;21m__init__\u001b[39m(\u001b[38;5;28mself\u001b[39m, A\u001b[38;5;241m.\u001b[39mdtype, A\u001b[38;5;241m.\u001b[39mshape)\n",
      "File \u001b[0;32m~/miniconda3/envs/kwantenv/lib/python3.12/site-packages/mumps/mumps.py:412\u001b[0m, in \u001b[0;36mContext.factor\u001b[0;34m(self, a, ordering, ooc, pivot_tol, reuse_analysis, overwrite_a)\u001b[0m\n\u001b[1;32m    410\u001b[0m \u001b[38;5;28;01mwhile\u001b[39;00m \u001b[38;5;28;01mTrue\u001b[39;00m:\n\u001b[1;32m    411\u001b[0m     \u001b[38;5;28;01mtry\u001b[39;00m:\n\u001b[0;32m--> 412\u001b[0m         t \u001b[38;5;241m=\u001b[39m \u001b[38;5;28mself\u001b[39m\u001b[38;5;241m.\u001b[39mcall()\n\u001b[1;32m    413\u001b[0m     \u001b[38;5;28;01mexcept\u001b[39;00m MUMPSError:\n\u001b[1;32m    414\u001b[0m         \u001b[38;5;66;03m# error -8, -9 (not enough allocated memory) is treated\u001b[39;00m\n\u001b[1;32m    415\u001b[0m         \u001b[38;5;66;03m# specially, by increasing the memory relaxation parameter\u001b[39;00m\n\u001b[1;32m    416\u001b[0m         \u001b[38;5;28;01mif\u001b[39;00m \u001b[38;5;28mself\u001b[39m\u001b[38;5;241m.\u001b[39mmumps_instance\u001b[38;5;241m.\u001b[39minfog[\u001b[38;5;241m1\u001b[39m] \u001b[38;5;129;01min\u001b[39;00m (\u001b[38;5;241m-\u001b[39m\u001b[38;5;241m8\u001b[39m, \u001b[38;5;241m-\u001b[39m\u001b[38;5;241m9\u001b[39m):\n\u001b[1;32m    417\u001b[0m             \u001b[38;5;66;03m# Double the memory relaxation parameter\u001b[39;00m\n",
      "File \u001b[0;32m~/miniconda3/envs/kwantenv/lib/python3.12/site-packages/mumps/mumps.py:272\u001b[0m, in \u001b[0;36mContext.call\u001b[0;34m(self)\u001b[0m\n\u001b[1;32m    255\u001b[0m \u001b[38;5;250m\u001b[39m\u001b[38;5;124;03m\"\"\"Execute the MUMPS subroutine.\u001b[39;00m\n\u001b[1;32m    256\u001b[0m \n\u001b[1;32m    257\u001b[0m \u001b[38;5;124;03mCompared to directly calling the MUMPS subroutine, this method\u001b[39;00m\n\u001b[0;32m   (...)\u001b[0m\n\u001b[1;32m    269\u001b[0m \u001b[38;5;124;03m    time spent in the MUMPS subroutine.\u001b[39;00m\n\u001b[1;32m    270\u001b[0m \u001b[38;5;124;03m\"\"\"\u001b[39;00m\n\u001b[1;32m    271\u001b[0m t1 \u001b[38;5;241m=\u001b[39m time\u001b[38;5;241m.\u001b[39mperf_counter()\n\u001b[0;32m--> 272\u001b[0m \u001b[38;5;28mself\u001b[39m\u001b[38;5;241m.\u001b[39mmumps_instance\u001b[38;5;241m.\u001b[39mcall()\n\u001b[1;32m    273\u001b[0m t2 \u001b[38;5;241m=\u001b[39m time\u001b[38;5;241m.\u001b[39mperf_counter()\n\u001b[1;32m    274\u001b[0m \u001b[38;5;28;01mif\u001b[39;00m \u001b[38;5;28mself\u001b[39m\u001b[38;5;241m.\u001b[39mmumps_instance\u001b[38;5;241m.\u001b[39minfog[\u001b[38;5;241m1\u001b[39m] \u001b[38;5;241m<\u001b[39m \u001b[38;5;241m0\u001b[39m:\n",
      "\u001b[0;31mKeyboardInterrupt\u001b[0m: "
     ]
    }
   ],
   "source": [
    "for i, Vs in tqdm(enumerate(Vss), total=len(Vss)):\n",
    "    print(f\"V = {-Vs}\")\n",
    "\n",
    "    Delta_n, theta_n, ws, vs = solve_for_V(\n",
    "        Vs=Vs,\n",
    "        g=g,\n",
    "        Delta_0=Delta_0,\n",
    "        theta_0=theta_0,\n",
    "        tol=1e-7,\n",
    "        maxiter=10,\n",
    "        mixing=0.75,\n",
    "        T=1e-3,\n",
    "    )\n",
    "\n",
    "    file_path = f\"./data2/data_V{int(Vss[i]*10):03d}.npz\"\n",
    "    np.savez(file_path, Delta_n=Delta_n, theta_n=theta_n, ws=ws, vs=vs)"
   ]
  },
  {
   "cell_type": "code",
   "execution_count": null,
   "id": "1f4c98e8",
   "metadata": {},
   "outputs": [],
   "source": []
  }
 ],
 "metadata": {
  "kernelspec": {
   "display_name": "qenv311",
   "language": "python",
   "name": "python3"
  },
  "language_info": {
   "codemirror_mode": {
    "name": "ipython",
    "version": 3
   },
   "file_extension": ".py",
   "mimetype": "text/x-python",
   "name": "python",
   "nbconvert_exporter": "python",
   "pygments_lexer": "ipython3",
   "version": "3.12.3"
  }
 },
 "nbformat": 4,
 "nbformat_minor": 5
}
