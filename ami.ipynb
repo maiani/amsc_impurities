{
 "cells": [
  {
   "cell_type": "code",
   "execution_count": 188,
   "id": "61d55d81-4f48-460e-a4f9-734d1a9a1fd5",
   "metadata": {},
   "outputs": [],
   "source": [
    "# import copy\n",
    "# import inspect\n",
    "# import itertools\n",
    "# import json\n",
    "# import os\n",
    "# import time\n",
    "# import traceback\n",
    "# import types\n",
    "\n",
    "# import h5py\n",
    "import kwant\n",
    "import matplotlib.pyplot as plt\n",
    "import scipy.sparse.linalg as sla\n",
    "\n",
    "# import numpy as np\n",
    "# from dask.distributed import Client, LocalCluster, as_completed\n",
    "# from dask_jobqueue import PBSCluster\n",
    "# from IPython.display import clear_output\n",
    "from tqdm.notebook import tqdm"
   ]
  },
  {
   "cell_type": "code",
   "execution_count": 16,
   "id": "9262c773-7b52-4ecc-a303-7e619608f52f",
   "metadata": {},
   "outputs": [],
   "source": [
    "%matplotlib inline"
   ]
  },
  {
   "cell_type": "code",
   "execution_count": 277,
   "id": "59f3672a-9d1c-4312-a69c-8e24fc927c80",
   "metadata": {},
   "outputs": [],
   "source": [
    "\"\"\"\n",
    "This modules provides functions useful to setup simulations of 2DEG systems.\n",
    "\"\"\"\n",
    "from functools import lru_cache\n",
    "\n",
    "import kwant\n",
    "import numpy as np\n",
    "import pauli\n",
    "import scipy.linalg as la\n",
    "import sympy as sym\n",
    "from kwant.continuum import discretize, sympify\n",
    "from sympy.physics.quantum.matrixutils import matrix_tensor_product as kron\n",
    "\n",
    "\n",
    "@lru_cache\n",
    "def sed(omega, Delta, h_Sc):\n",
    "    \"\"\"\n",
    "    Denominator of superconducting leads self-energy.\n",
    "    \"\"\"\n",
    "    return np.sqrt(Delta ** 2 - (h_Sc - omega) ** 2)\n",
    "\n",
    "@lru_cache\n",
    "def symbolic_hamiltonian_spinful_complete(dims : int, self_energy : bool):\n",
    "    \"\"\"\n",
    "    Generate a symbolic Hamiltonian of the effective model for a 2DEG nanowire.\n",
    "        Parameters:\n",
    "            dims (int) : Number of dimension (1 or 2)\n",
    "    \"\"\"\n",
    "    \n",
    "    # Nanowire hamiltonian\n",
    "    hamiltonian = sympify(\n",
    "        \"\"\" \n",
    "        k_c * (k_x**2 + k_y**2) * kron(sigma_z, sigma_0)\n",
    "        + V(x, y) * kron(sigma_z, sigma_0) \n",
    "        + (+ alpha_z(x, y) * k_y) * kron(sigma_z, sigma_x)\n",
    "        + (- alpha_z(x, y) * k_x) * kron(sigma_z, sigma_y)\n",
    "        + (+ alpha_x(x, y) * k_y - alpha_y(x, y) * k_x) * kron(sigma_z, sigma_z)\n",
    "        + beta * ( k_x * kron(sigma_z, sigma_x) - k_y * kron(sigma_z, sigma_y))\n",
    "        + h_x(x, y) * kron(sigma_0, sigma_x)\n",
    "        + h_y(x, y) * kron(sigma_0, sigma_y)\n",
    "        + h_z(x, y) * kron(sigma_0, sigma_z)                       \n",
    "    \"\"\"\n",
    "    )\n",
    "    \n",
    "    if self_energy:\n",
    "        Sigma = sympify(\n",
    "            \"\"\"\n",
    "            gamma_Sc(x, y) * ( \n",
    "                ( - omega - 1j * Gamma_Sc) * kron(sigma_0, sigma_0) \n",
    "                 + h_Sc * kron(sigma_0, sigma_z)\n",
    "                 + Delta(x, y) * ( cos(theta(x,y)) * kron(sigma_x, sigma_0) \n",
    "                                 - sin(theta(x,y)) * kron(sigma_y, sigma_0))\n",
    "            ) * ( \n",
    "              (kron(sigma_0, sigma_0) + kron(sigma_0, sigma_z))/2 / sed(\n",
    "               omega + 1j * Gamma_Sc, \n",
    "               Delta(x, y),\n",
    "               +h_Sc)\n",
    "            + (kron(sigma_0, sigma_0) - kron(sigma_0, sigma_z))/2 / sed(\n",
    "               omega + 1j * Gamma_Sc,\n",
    "               Delta(x, y),\n",
    "               -h_Sc)\n",
    "            )\n",
    "            + (- 1j * gamma_Sm(x, y) * kron(sigma_0, sigma_0))\n",
    "        \"\"\"\n",
    "        )\n",
    "        \n",
    "        # Rotate the self energy in the spin space    \n",
    "        U_p = sympify(\"exp( 1j / 2 * pi / 2 * sigma_y)\")\n",
    "        U_h = sympify(\"sigma_y\") * U_p.conjugate() * sympify(\"sigma_y\")\n",
    "        U   = (kron(sympify(\"(sigma_0 + sigma_z)/2\"), U_p) +\n",
    "               kron(sympify(\"(sigma_0 - sigma_z)/2\"), U_h))\n",
    "\n",
    "        hamiltonian += U.H * Sigma * U\n",
    "\n",
    "    else:\n",
    "        hamiltonian += sympify(\"\"\"Delta(x, y) * ( cos(theta(x,y)) * kron(sigma_x, sigma_0) \n",
    "                                                - sin(theta(x,y)) * kron(sigma_y, sigma_0))\"\"\" )\n",
    "        \n",
    "    if dims == 1:\n",
    "        hamiltonian = hamiltonian.subs(sym.Symbol(\"k_y\", commutative=False), 0)\n",
    "        hamiltonian = hamiltonian.subs(sym.Symbol(\"y\", commutative=False), 0)\n",
    "    elif dims == 2:\n",
    "        pass\n",
    "    else:\n",
    "        raise Exception(\"Only dimensions 1 and 2 are implemented.\")\n",
    "    \n",
    "    return sym.simplify(hamiltonian)\n",
    "\n",
    "@lru_cache\n",
    "def symbolic_hamiltonian_spinful_simplified(dims : int, self_energy : bool):\n",
    "    \"\"\"\n",
    "    Generate a symbolic Hamiltonian of the effective model for a 2DEG nanowire.\n",
    "        Parameters:\n",
    "            dims (int) : Number of dimension (1 or 2)\n",
    "    \"\"\"\n",
    "    \n",
    "    # Nanowire hamiltonian\n",
    "    hamiltonian = sympify(\n",
    "        \"\"\" \n",
    "        k_c * (k_x**2 + k_y**2) * kron(sigma_z, sigma_0)\n",
    "        + V(x, y) * kron(sigma_z, sigma_0) \n",
    "        + (+ alpha_z * k_y) * kron(sigma_z, sigma_x)\n",
    "        + (- alpha_z * k_x) * kron(sigma_z, sigma_y)\n",
    "        + h_x * kron(sigma_0, sigma_x)\n",
    "        + h_y * kron(sigma_0, sigma_y)\n",
    "        + h_z * kron(sigma_0, sigma_z)                       \n",
    "    \"\"\"\n",
    "    )\n",
    "    \n",
    "    if self_energy:\n",
    "        Sigma = sympify(\n",
    "            \"\"\"\n",
    "            gamma_Sc(x, y) * ( \n",
    "                ( - omega - 1j * Gamma_Sc) * kron(sigma_0, sigma_0)\n",
    "                 + Delta(x, y) * ( cos(theta(x,y)) * kron(sigma_x, sigma_0) \n",
    "                                 - sin(theta(x,y)) * kron(sigma_y, sigma_0))\n",
    "            ) / sed(\n",
    "               omega + 1j * Gamma_Sc,\n",
    "               Delta(x, y),\n",
    "               0)\n",
    "        \"\"\"\n",
    "        )\n",
    "        \n",
    "        # Rotate the self energy in the spin space    \n",
    "        U_p = sympify(\"exp( 1j / 2 * pi / 2 * sigma_y)\")\n",
    "        U_h = sympify(\"sigma_y\") * U_p.conjugate() * sympify(\"sigma_y\")\n",
    "        U   = (kron(sympify(\"(sigma_0 + sigma_z)/2\"), U_p) +\n",
    "               kron(sympify(\"(sigma_0 - sigma_z)/2\"), U_h))\n",
    "\n",
    "        hamiltonian += U.H * Sigma * U\n",
    "\n",
    "    else:\n",
    "        hamiltonian += sympify(\"\"\"Delta(x, y) * ( cos(phi(x,y)) * kron(sigma_x, sigma_0) \n",
    "                                                - sin(phi(x,y)) * kron(sigma_y, sigma_0))\"\"\" )\n",
    "        \n",
    "    if dims == 1:\n",
    "        hamiltonian = hamiltonian.subs(sym.Symbol(\"k_y\", commutative=False), 0)\n",
    "        hamiltonian = hamiltonian.subs(sym.Symbol(\"y\", commutative=False), 0)\n",
    "    elif dims == 2:\n",
    "        pass\n",
    "    else:\n",
    "        raise Exception(\"Only dimensions 1 and 2 are implemented.\")\n",
    "    \n",
    "    return sym.simplify(hamiltonian)\n",
    "\n",
    "\n",
    "\n",
    "def make_1D_system(a_x, bounds, with_leads, finalized, spinless_smatrix, self_energy):\n",
    "    \"\"\"\n",
    "    Create a Kwant system of a single channel 2DEG nanowire.\n",
    "    \"\"\"\n",
    "\n",
    "    lat = kwant.lattice.chain(a_x, norbs=4)\n",
    "\n",
    "    hamiltonian = symbolic_hamiltonian_spinful_simplified(dims = 1, self_energy=self_energy)\n",
    "\n",
    "    template = discretize(hamiltonian, grid=lat)\n",
    "\n",
    "    def shape(site):\n",
    "        (x) = site.pos\n",
    "        return (x>bounds[0])*(x<bounds[1])\n",
    "\n",
    "    syst = kwant.Builder()\n",
    "    syst.fill(template, shape, (0.0,))\n",
    "\n",
    "    if with_leads:\n",
    "\n",
    "        phs = +pauli.tysy\n",
    "\n",
    "        ### Build conservation law\n",
    "        rot = la.expm(1j / 2 * np.pi / 2 * pauli.sy)\n",
    "        trs = 1j * pauli.sy\n",
    "        U = np.zeros((4, 4), dtype=complex)\n",
    "        U[0:2, 0:2] = rot\n",
    "        U[2:4, 2:4] = trs @ rot @ trs.T\n",
    "        \n",
    "        if spinless_smatrix:\n",
    "            cl = U @ np.diag([0, 0, 1, 1]) @ np.conj(U.T)\n",
    "        else:\n",
    "            cl = U @ np.diag([0, 1, 2, 3]) @ np.conj(U.T)\n",
    "\n",
    "        left_lead = kwant.Builder(\n",
    "            symmetry=kwant.TranslationalSymmetry((-a_x,)),\n",
    "            particle_hole=phs,\n",
    "            conservation_law=cl,\n",
    "        )\n",
    "\n",
    "        left_lead.fill(\n",
    "            template.substituted(\n",
    "                gamma_Sc=\"gamma_Sc_lead\", \n",
    "                V=\"V_L\",\n",
    "                alpha_z=\"alpha_z_lead\",\n",
    "                h_x=\"h_x_lead\",\n",
    "                h_y=\"h_y_lead\",\n",
    "                h_z=\"h_z_lead\",\n",
    "            ),\n",
    "            shape=(lambda site: True),\n",
    "            start=[-L_x],\n",
    "        )\n",
    "        syst.attach_lead(left_lead)\n",
    "\n",
    "        right_lead = kwant.Builder(\n",
    "            symmetry=kwant.TranslationalSymmetry((+a_x,)),\n",
    "            particle_hole=phs,\n",
    "            conservation_law=cl,\n",
    "        )\n",
    "\n",
    "        right_lead.fill(\n",
    "            template.substituted(\n",
    "                gamma_Sc=\"gamma_Sc_lead\", \n",
    "                V=\"V_R\",\n",
    "                alpha_z=\"alpha_z_lead\",\n",
    "                h_x=\"h_x_lead\",\n",
    "                h_y=\"h_y_lead\",\n",
    "                h_z=\"h_z_lead\",\n",
    "            ),\n",
    "            shape=(lambda site: True),\n",
    "            start=[+L_x],\n",
    "        )\n",
    "\n",
    "        syst.attach_lead(right_lead)\n",
    "\n",
    "    if finalized:\n",
    "        syst = syst.finalized()\n",
    "\n",
    "    return syst"
   ]
  },
  {
   "cell_type": "code",
   "execution_count": 278,
   "id": "1fd715ac-ac6c-4002-8fb1-20d23d0cb765",
   "metadata": {},
   "outputs": [
    {
     "data": {
      "text/latex": [
       "$\\displaystyle \\left[\\begin{matrix}h_{z} + k_{c} \\left(k_{x}^{2} + k_{y}^{2}\\right) - \\left(i \\Gamma_{Sc} + \\omega\\right) \\gamma_{Sc}{\\left(x,y \\right)} \\operatorname{sed}^{-1}{\\left(i \\Gamma_{Sc} + \\omega,\\Delta{\\left(x,y \\right)},0 \\right)} + V{\\left(x,y \\right)} & i \\alpha_{z} k_{x} + \\alpha_{z} k_{y} + h_{x} - i h_{y} & \\gamma_{Sc}{\\left(x,y \\right)} \\Delta{\\left(x,y \\right)} \\left(i \\sin{\\left(\\theta{\\left(x,y \\right)} \\right)} + \\cos{\\left(\\theta{\\left(x,y \\right)} \\right)}\\right) \\operatorname{sed}^{-1}{\\left(i \\Gamma_{Sc} + \\omega,\\Delta{\\left(x,y \\right)},0 \\right)} & 0\\\\- i \\alpha_{z} k_{x} + \\alpha_{z} k_{y} + h_{x} + i h_{y} & - h_{z} + k_{c} \\left(k_{x}^{2} + k_{y}^{2}\\right) - \\left(i \\Gamma_{Sc} + \\omega\\right) \\gamma_{Sc}{\\left(x,y \\right)} \\operatorname{sed}^{-1}{\\left(i \\Gamma_{Sc} + \\omega,\\Delta{\\left(x,y \\right)},0 \\right)} + V{\\left(x,y \\right)} & 0 & \\gamma_{Sc}{\\left(x,y \\right)} \\Delta{\\left(x,y \\right)} \\left(i \\sin{\\left(\\theta{\\left(x,y \\right)} \\right)} + \\cos{\\left(\\theta{\\left(x,y \\right)} \\right)}\\right) \\operatorname{sed}^{-1}{\\left(i \\Gamma_{Sc} + \\omega,\\Delta{\\left(x,y \\right)},0 \\right)}\\\\- \\gamma_{Sc}{\\left(x,y \\right)} \\Delta{\\left(x,y \\right)} \\left(i \\sin{\\left(\\theta{\\left(x,y \\right)} \\right)} - \\cos{\\left(\\theta{\\left(x,y \\right)} \\right)}\\right) \\operatorname{sed}^{-1}{\\left(i \\Gamma_{Sc} + \\omega,\\Delta{\\left(x,y \\right)},0 \\right)} & 0 & h_{z} - k_{c} \\left(k_{x}^{2} + k_{y}^{2}\\right) - \\left(i \\Gamma_{Sc} + \\omega\\right) \\gamma_{Sc}{\\left(x,y \\right)} \\operatorname{sed}^{-1}{\\left(i \\Gamma_{Sc} + \\omega,\\Delta{\\left(x,y \\right)},0 \\right)} - V{\\left(x,y \\right)} & - i \\alpha_{z} k_{x} - \\alpha_{z} k_{y} + h_{x} - i h_{y}\\\\0 & - \\gamma_{Sc}{\\left(x,y \\right)} \\Delta{\\left(x,y \\right)} \\left(i \\sin{\\left(\\theta{\\left(x,y \\right)} \\right)} - \\cos{\\left(\\theta{\\left(x,y \\right)} \\right)}\\right) \\operatorname{sed}^{-1}{\\left(i \\Gamma_{Sc} + \\omega,\\Delta{\\left(x,y \\right)},0 \\right)} & i \\alpha_{z} k_{x} - \\alpha_{z} k_{y} + h_{x} + i h_{y} & - h_{z} - k_{c} \\left(k_{x}^{2} + k_{y}^{2}\\right) - \\left(i \\Gamma_{Sc} + \\omega\\right) \\gamma_{Sc}{\\left(x,y \\right)} \\operatorname{sed}^{-1}{\\left(i \\Gamma_{Sc} + \\omega,\\Delta{\\left(x,y \\right)},0 \\right)} - V{\\left(x,y \\right)}\\end{matrix}\\right]$"
      ],
      "text/plain": [
       "Matrix([\n",
       "[h_z + k_c*(k_x**2 + k_y**2) - (I*Gamma_Sc + omega)*gamma_Sc(x, y)*sed(I*Gamma_Sc + omega, Delta(x, y), 0)**(-1) + V(x, y),                                                                                  I*alpha_z*k_x + alpha_z*k_y + h_x - I*h_y,          gamma_Sc(x, y)*Delta(x, y)*(I*sin(theta(x, y)) + cos(theta(x, y)))*sed(I*Gamma_Sc + omega, Delta(x, y), 0)**(-1),                                                                                                                          0],\n",
       "[                                                                               -I*alpha_z*k_x + alpha_z*k_y + h_x + I*h_y, -h_z + k_c*(k_x**2 + k_y**2) - (I*Gamma_Sc + omega)*gamma_Sc(x, y)*sed(I*Gamma_Sc + omega, Delta(x, y), 0)**(-1) + V(x, y),                                                                                                                         0,           gamma_Sc(x, y)*Delta(x, y)*(I*sin(theta(x, y)) + cos(theta(x, y)))*sed(I*Gamma_Sc + omega, Delta(x, y), 0)**(-1)],\n",
       "[        -gamma_Sc(x, y)*Delta(x, y)*(I*sin(theta(x, y)) - cos(theta(x, y)))*sed(I*Gamma_Sc + omega, Delta(x, y), 0)**(-1),                                                                                                                          0, h_z - k_c*(k_x**2 + k_y**2) - (I*Gamma_Sc + omega)*gamma_Sc(x, y)*sed(I*Gamma_Sc + omega, Delta(x, y), 0)**(-1) - V(x, y),                                                                                 -I*alpha_z*k_x - alpha_z*k_y + h_x - I*h_y],\n",
       "[                                                                                                                        0,          -gamma_Sc(x, y)*Delta(x, y)*(I*sin(theta(x, y)) - cos(theta(x, y)))*sed(I*Gamma_Sc + omega, Delta(x, y), 0)**(-1),                                                                                 I*alpha_z*k_x - alpha_z*k_y + h_x + I*h_y, -h_z - k_c*(k_x**2 + k_y**2) - (I*Gamma_Sc + omega)*gamma_Sc(x, y)*sed(I*Gamma_Sc + omega, Delta(x, y), 0)**(-1) - V(x, y)]])"
      ]
     },
     "execution_count": 278,
     "metadata": {},
     "output_type": "execute_result"
    }
   ],
   "source": [
    "symbolic_hamiltonian_spinful_simplified(dims=2, self_energy=True)"
   ]
  },
  {
   "cell_type": "code",
   "execution_count": 311,
   "id": "e9259db9-f406-4e0a-aaf4-be2220ff4d01",
   "metadata": {},
   "outputs": [],
   "source": [
    "def build_ami_fields(\n",
    "    N, \n",
    "    L_S, L_N,\n",
    "    mu_S, mu_N, \n",
    "    Delta_0, Delta_phi,\n",
    "    gamma_0, l_smth,\n",
    "    L_B, V_B, mu_ld\n",
    "    ):\n",
    "    \"\"\"\n",
    "    Build the fields for an Andreev Multi Interferometer.\n",
    "    \"\"\"\n",
    "    if l_smth == 0 :\n",
    "        step = np.heaviside\n",
    "    else:\n",
    "        def step(x):\n",
    "            return 1 / (1 + np.exp(-x / l_smth))\n",
    "\n",
    "    L_w = N * (L_S + L_N) + L_N \n",
    "    \n",
    "    def V(x, y):\n",
    "\n",
    "        Vp = (\n",
    "            -mu_ld\n",
    "            + (mu_ld-mu_N) * (step(x) - step(x - L_w)) \n",
    "            + (mu_ld + V_B) * (step(x + L_B) - step(x)) \n",
    "            + (mu_ld + V_B) * (step(x - L_w) - step(x - L_w - L_B))\n",
    "             )\n",
    "        Vp += (mu_N - mu_S) * ((x-L_N) % (L_N + L_S) < L_S) * (x < L_w) * (x > 0)\n",
    "        \n",
    "        return Vp\n",
    "\n",
    "    def Delta(x, y):\n",
    "        return Delta_0 * ((x-L_N) % (L_N + L_S) < L_S) * (x < L_w) * (x > 0)\n",
    "\n",
    "    def phi(x, y):\n",
    "        return Delta_phi * ((x-L_N) // (L_N + L_S) )\n",
    "\n",
    "    def gamma(x, y):\n",
    "        return gamma_0 * ((x-L_N) % (L_N + L_S) < L_S) * (x < L_w) * (x > 0)\n",
    "\n",
    "    return V, gamma, Delta, phi"
   ]
  },
  {
   "cell_type": "code",
   "execution_count": 424,
   "id": "252bbbdc-2b6a-4cf1-8b18-6f7373b11fb0",
   "metadata": {},
   "outputs": [],
   "source": [
    "fields_params = dict(\n",
    "    N = 2, \n",
    "    L_S = 100, L_N=10,\n",
    "    mu_S = 20, mu_N = 20, \n",
    "    Delta_0 = 0.5, Delta_phi = np.pi/6,\n",
    "    gamma_0 = 200e-6, l_smth = 0.01,\n",
    "    L_B= 0, V_B = 10, mu_ld = 20\n",
    ")\n",
    "\n",
    "V, gamma, Delta, phi = build_ami_fields(\n",
    "    **fields_params\n",
    "    )"
   ]
  },
  {
   "cell_type": "code",
   "execution_count": 427,
   "id": "3200e8d3-93f0-4cb1-9238-095946609f7f",
   "metadata": {},
   "outputs": [],
   "source": [
    "x = np.linspace(-100, 1500, 1000)"
   ]
  },
  {
   "cell_type": "code",
   "execution_count": 428,
   "id": "afeda47d-c026-4f90-a898-81e75a3017a1",
   "metadata": {},
   "outputs": [
    {
     "name": "stderr",
     "output_type": "stream",
     "text": [
      "/scratch/42538853/ipykernel_40414/386900639.py:16: RuntimeWarning: overflow encountered in exp\n",
      "  return 1 / (1 + np.exp(-x / l_smth))\n"
     ]
    },
    {
     "data": {
      "text/plain": [
       "[<matplotlib.lines.Line2D at 0x7fff08c3ab30>]"
      ]
     },
     "execution_count": 428,
     "metadata": {},
     "output_type": "execute_result"
    },
    {
     "data": {
      "image/png": "[encoded data removed]",
      "text/plain": [
       "<Figure size 640x480 with 3 Axes>"
      ]
     },
     "metadata": {},
     "output_type": "display_data"
    }
   ],
   "source": [
    "fig, (ax1, ax2) = plt.subplots(nrows=2)\n",
    "ax1.plot(x, V(x, 0))\n",
    "ax1.plot(x, 0*x, '--k')\n",
    "#ax.set_ylim(-20, 20)\n",
    "ax2.plot(x, Delta(x, 0))\n",
    "ax2.plot(x, gamma(x, 0))\n",
    "ax2.twinx().plot(x, phi(x, 0))\n"
   ]
  },
  {
   "cell_type": "code",
   "execution_count": 429,
   "id": "8f98e145-bc62-4144-84f7-294ccf4f8ec8",
   "metadata": {},
   "outputs": [],
   "source": [
    "def get_default_params():\n",
    "    \"\"\"\n",
    "    Generate the default prameters dict.\n",
    "    \"\"\"\n",
    "    ############# SUPERCONDUCTOR #############################\n",
    "\n",
    "    params = {\n",
    "        # Name\n",
    "        \"simname\": \"ami_test\",\n",
    "        # Material params\n",
    "        \"k_c\": 38.0998212 / 0.026,\n",
    "        \"alpha_z\":  0,\n",
    "        # Electrostatics\n",
    "        \"V\": lambda *args: 0.0,\n",
    "        \"V_L\": lambda *args: 0.0,\n",
    "        \"V_R\": lambda *args: 0.0,\n",
    "        # Induced terms params\n",
    "        \"sed\": sed,\n",
    "        \"Gamma_Sc\": 1 * 1e-12,\n",
    "        \"gamma_Sc\": gamma,\n",
    "        \"omega\": 0.0,\n",
    "        # Magnetic field\n",
    "        \"h_x\": 0.0,\n",
    "        \"h_y\": 0.0,\n",
    "        \"h_z\": 0.0,\n",
    "        # Leads params\n",
    "        \"gamma_Sc_lead\": lambda *args: 0.0,\n",
    "        \"alpha_z_lead\": 0.0,\n",
    "        # Functions\n",
    "        \"cos\" : np.cos,\n",
    "        \"sin\" : np.sin,\n",
    "        \"Delta\" : Delta,\n",
    "        \n",
    "    }\n",
    "\n",
    "    return params"
   ]
  },
  {
   "cell_type": "code",
   "execution_count": 430,
   "id": "88644562-e3f0-4229-8e03-4e566249e4f9",
   "metadata": {},
   "outputs": [],
   "source": [
    "params = get_default_params()"
   ]
  },
  {
   "cell_type": "markdown",
   "id": "aab8d730-405a-44cc-a73a-169da9ce704e",
   "metadata": {},
   "source": [
    "# Spectrum"
   ]
  },
  {
   "cell_type": "code",
   "execution_count": 439,
   "id": "2a919082-efd9-4c40-900e-02dcd3166505",
   "metadata": {
    "ExecuteTime": {
     "end_time": "2021-12-07T10:47:19.443531Z",
     "start_time": "2021-12-07T10:47:14.581564Z"
    }
   },
   "outputs": [
    {
     "name": "stderr",
     "output_type": "stream",
     "text": [
      "/scratch/42538853/ipykernel_40414/1829964053.py:189: RuntimeWarning: Parameters {'gamma_Sc'} are not used by any onsite or hopping value function in this system.\n",
      "  template.substituted(\n",
      "/scratch/42538853/ipykernel_40414/1829964053.py:209: RuntimeWarning: Parameters {'gamma_Sc'} are not used by any onsite or hopping value function in this system.\n",
      "  template.substituted(\n"
     ]
    }
   ],
   "source": [
    "a_x = 5\n",
    "bounds = np.array([x.min(), x.max()])\n",
    "\n",
    "syst = make_1D_system(a_x, bounds, with_leads=True, finalized=True, spinless_smatrix=True, self_energy=False)"
   ]
  },
  {
   "cell_type": "code",
   "execution_count": 440,
   "id": "9984e7b9-daea-480e-8184-888c434f2d7e",
   "metadata": {
    "ExecuteTime": {
     "end_time": "2021-12-07T10:47:19.463164Z",
     "start_time": "2021-12-07T10:47:19.458082Z"
    }
   },
   "outputs": [],
   "source": [
    "dphi_ax_N = 101\n",
    "dphi_ax = np.linspace(0, 2*np.pi, dphi_ax_N)"
   ]
  },
  {
   "cell_type": "code",
   "execution_count": 441,
   "id": "5902a3d8-7297-4b2c-9212-ffa750e95c7f",
   "metadata": {
    "ExecuteTime": {
     "end_time": "2021-12-07T10:48:11.746919Z",
     "start_time": "2021-12-07T10:47:19.474121Z"
    }
   },
   "outputs": [
    {
     "data": {
      "application/vnd.jupyter.widget-view+json": {
       "model_id": "0a0a385b45fc4743b0ddd8a71b195ec0",
       "version_major": 2,
       "version_minor": 0
      },
      "text/plain": [
       "  0%|          | 0/101 [00:00<?, ?it/s]"
      ]
     },
     "metadata": {},
     "output_type": "display_data"
    },
    {
     "name": "stdout",
     "output_type": "stream",
     "text": [
      "0.0\n",
      "0.06283185307179587\n",
      "0.12566370614359174\n",
      "0.1884955592153876\n",
      "0.25132741228718347\n",
      "0.3141592653589793\n",
      "0.3769911184307752\n",
      "0.4398229715025711\n",
      "0.5026548245743669\n",
      "0.5654866776461628\n",
      "0.6283185307179586\n",
      "0.6911503837897546\n",
      "0.7539822368615504\n",
      "0.8168140899333463\n",
      "0.8796459430051422\n",
      "0.942477796076938\n",
      "1.0053096491487339\n",
      "1.0681415022205298\n",
      "1.1309733552923256\n",
      "1.1938052083641215\n",
      "1.2566370614359172\n",
      "1.3194689145077132\n",
      "1.3823007675795091\n",
      "1.4451326206513049\n",
      "1.5079644737231008\n",
      "1.5707963267948968\n",
      "1.6336281798666925\n",
      "1.6964600329384885\n",
      "1.7592918860102844\n",
      "1.8221237390820801\n",
      "1.884955592153876\n",
      "1.9477874452256718\n",
      "2.0106192982974678\n",
      "2.0734511513692637\n",
      "2.1362830044410597\n",
      "2.199114857512855\n",
      "2.261946710584651\n",
      "2.324778563656447\n",
      "2.387610416728243\n",
      "2.450442269800039\n",
      "2.5132741228718345\n",
      "2.5761059759436304\n",
      "2.6389378290154264\n",
      "2.7017696820872223\n",
      "2.7646015351590183\n",
      "2.8274333882308142\n",
      "2.8902652413026098\n",
      "2.9530970943744057\n",
      "3.0159289474462017\n",
      "3.0787608005179976\n",
      "3.1415926535897936\n",
      "3.204424506661589\n",
      "3.267256359733385\n",
      "3.330088212805181\n",
      "3.392920065876977\n",
      "3.455751918948773\n",
      "3.518583772020569\n",
      "3.5814156250923643\n",
      "3.6442474781641603\n",
      "3.7070793312359562\n",
      "3.769911184307752\n",
      "3.832743037379548\n",
      "3.8955748904513436\n",
      "3.9584067435231396\n",
      "4.0212385965949355\n",
      "4.084070449666731\n",
      "4.1469023027385274\n",
      "4.209734155810323\n",
      "4.272566008882119\n",
      "4.335397861953915\n",
      "4.39822971502571\n",
      "4.461061568097507\n",
      "4.523893421169302\n",
      "4.586725274241099\n",
      "4.649557127312894\n",
      "4.71238898038469\n",
      "4.775220833456486\n",
      "4.838052686528282\n",
      "4.900884539600078\n",
      "4.9637163926718735\n",
      "5.026548245743669\n",
      "5.089380098815465\n",
      "5.152211951887261\n",
      "5.215043804959057\n",
      "5.277875658030853\n",
      "5.340707511102649\n",
      "5.403539364174445\n",
      "5.46637121724624\n",
      "5.529203070318037\n",
      "5.592034923389832\n",
      "5.6548667764616285\n",
      "5.717698629533424\n",
      "5.7805304826052195\n",
      "5.843362335677016\n",
      "5.906194188748811\n",
      "5.969026041820608\n",
      "6.031857894892403\n",
      "6.094689747964199\n",
      "6.157521601035995\n",
      "6.220353454107791\n",
      "6.283185307179586\n"
     ]
    }
   ],
   "source": [
    "ws = []\n",
    "\n",
    "for dphi in tqdm(dphi_ax):\n",
    "    print(dphi)\n",
    "    fields_params.update(Delta_phi = dphi)\n",
    "    V, gamma, Delta, phi = build_ami_fields(\n",
    "    **fields_params\n",
    "    )\n",
    "    \n",
    "    params.update(phi=phi)\n",
    "    \n",
    "    ham = syst.hamiltonian_submatrix(params=params)\n",
    "    w, v = sla.eigsh(ham, k = 24, sigma = 0)\n",
    "    \n",
    "    ws.append(w)\n",
    "    \n",
    "ws = np.array(ws)"
   ]
  },
  {
   "cell_type": "code",
   "execution_count": 442,
   "id": "342fcf6f-237b-4697-83dc-451769015f38",
   "metadata": {
    "ExecuteTime": {
     "end_time": "2021-12-07T10:48:12.139013Z",
     "start_time": "2021-12-07T10:48:11.754386Z"
    }
   },
   "outputs": [
    {
     "data": {
      "text/plain": [
       "(-0.2, 0.2)"
      ]
     },
     "execution_count": 442,
     "metadata": {},
     "output_type": "execute_result"
    },
    {
     "data": {
      "image/png": "[encoded data removed]",
      "text/plain": [
       "<Figure size 640x480 with 1 Axes>"
      ]
     },
     "metadata": {},
     "output_type": "display_data"
    }
   ],
   "source": [
    "fig, ax = plt.subplots()\n",
    "ax.plot(dphi_ax, ws[:, :], '.C0')\n",
    "ax.set_ylim(-0.2, 0.2)"
   ]
  },
  {
   "cell_type": "code",
   "execution_count": null,
   "id": "d816d148-754e-436c-8ea7-2b6405dcd3f1",
   "metadata": {},
   "outputs": [],
   "source": []
  },
  {
   "cell_type": "code",
   "execution_count": null,
   "id": "943315e8-a84d-49b1-928f-3c888f43dd8d",
   "metadata": {},
   "outputs": [],
   "source": []
  }
 ],
 "metadata": {
  "kernelspec": {
   "display_name": "Python [conda env:fnwjj]",
   "language": "python",
   "name": "conda-env-fnwjj-py"
  },
  "language_info": {
   "codemirror_mode": {
    "name": "ipython",
    "version": 3
   },
   "file_extension": ".py",
   "mimetype": "text/x-python",
   "name": "python",
   "nbconvert_exporter": "python",
   "pygments_lexer": "ipython3",
   "version": "3.10.4"
  }
 },
 "nbformat": 4,
 "nbformat_minor": 5
}
